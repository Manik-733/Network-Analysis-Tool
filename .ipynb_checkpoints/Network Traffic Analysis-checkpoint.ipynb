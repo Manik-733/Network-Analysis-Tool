{
 "cells": [
  {
   "cell_type": "markdown",
   "id": "cc2f7298-596d-4f4b-a36e-4f8d568145c4",
   "metadata": {},
   "source": [
    "# Network Traffic Analysis for Anomaly Detection\n",
    "This notebook demonstrates a simple network traffic analysis project for detecting anomalies in packet sizes."
   ]
  },
  {
   "cell_type": "markdown",
   "id": "21a2efca-102f-47e5-81db-7a121f712723",
   "metadata": {},
   "source": [
    "## Step 1: Data Collection\n",
    "In a real-world scenario, you would collect actual network traffic data. For this example, we'll generate sample data."
   ]
  },
  {
   "cell_type": "code",
   "execution_count": 1,
   "id": "147ca56a-102e-41d2-9496-70f21a37f47c",
   "metadata": {},
   "outputs": [
    {
     "name": "stdout",
     "output_type": "stream",
     "text": [
      "            timestamp    source_ip destination_ip protocol  packet_size\n",
      "0 2024-01-01 00:00:00  192.168.1.7       10.0.0.1      TCP          511\n",
      "1 2024-01-01 00:01:00  192.168.1.4       10.0.0.4      TCP          503\n",
      "2 2024-01-01 00:02:00  192.168.1.8       10.0.0.3      TCP          252\n",
      "3 2024-01-01 00:03:00  192.168.1.5       10.0.0.4      TCP          680\n",
      "4 2024-01-01 00:04:00  192.168.1.7       10.0.0.4      TCP          371\n",
      "\n",
      "Dataset shape: (1000, 5)\n"
     ]
    }
   ],
   "source": [
    "# Import required libraries\n",
    "import pandas as pd\n",
    "import numpy as np\n",
    "import matplotlib.pyplot as plt\n",
    "from scipy import stats\n",
    "\n",
    "# Set plot style\n",
    "plt.style.use('ggplot')\n",
    "\n",
    "def generate_sample_data(num_records=1000):\n",
    "    np.random.seed(42)\n",
    "    data = {\n",
    "        'timestamp': pd.date_range(start='2024-01-01', periods=num_records, freq='1min'),\n",
    "        'source_ip': np.random.choice(['192.168.1.' + str(i) for i in range(1, 11)], num_records),\n",
    "        'destination_ip': np.random.choice(['10.0.0.' + str(i) for i in range(1, 6)], num_records),\n",
    "        'protocol': np.random.choice(['TCP', 'UDP', 'ICMP'], num_records, p=[0.7, 0.25, 0.05]),\n",
    "        'packet_size': np.random.normal(500, 150, num_records).astype(int),\n",
    "    }\n",
    "    return pd.DataFrame(data)\n",
    "\n",
    "df = generate_sample_data()\n",
    "print(df.head())\n",
    "print(f\"\\nDataset shape: {df.shape}\")\n"
   ]
  },
  {
   "cell_type": "code",
   "execution_count": null,
   "id": "37f95ac4-f317-459a-bb2b-64a8829f3ca9",
   "metadata": {},
   "outputs": [],
   "source": []
  }
 ],
 "metadata": {
  "kernelspec": {
   "display_name": "Python 3 (ipykernel)",
   "language": "python",
   "name": "python3"
  },
  "language_info": {
   "codemirror_mode": {
    "name": "ipython",
    "version": 3
   },
   "file_extension": ".py",
   "mimetype": "text/x-python",
   "name": "python",
   "nbconvert_exporter": "python",
   "pygments_lexer": "ipython3",
   "version": "3.12.1"
  }
 },
 "nbformat": 4,
 "nbformat_minor": 5
}
